{
 "cells": [
  {
   "cell_type": "code",
   "execution_count": 3,
   "metadata": {},
   "outputs": [],
   "source": [
    "import cv2\n",
    "\n",
    "class ShapeDetector:\n",
    "    def __init__(self):\n",
    "        pass\n",
    " \n",
    "    def detect(self, c):\n",
    "        # 初始化图片名称与大概的形状\n",
    "        shape = \"unidentified\"\n",
    "        peri = cv2.arcLength(c, True)\n",
    "        approx = cv2.approxPolyDP(c, 0.04 * peri, True)\n",
    "        \n",
    "        if len(approx) == 3:\n",
    "            shape = \"triangle\"\n",
    "\n",
    "        # if the shape has 4 vertices, it is either a square or\n",
    "        # a rectangle\n",
    "        elif len(approx) == 4:\n",
    "            # compute the bounding box of the contour and use the\n",
    "            # bounding box to compute the aspect ratio\n",
    "            (x, y, w, h) = cv2.boundingRect(approx)\n",
    "            ar = w / float(h)\n",
    "\n",
    "            # a square will have an aspect ratio that is approximately\n",
    "            # equal to one, otherwise, the shape is a rectangle\n",
    "            shape = \"square\" if ar >= 0.95 and ar <= 1.05 else \"rectangle\"\n",
    "\n",
    "        # if the shape is a pentagon, it will have 5 vertices\n",
    "        elif len(approx) == 5:\n",
    "            shape = \"pentagon\"\n",
    "\n",
    "        # otherwise, we assume the shape is a circle\n",
    "        else:\n",
    "            shape = \"circle\"\n",
    "\n",
    "        # return the name of the shape\n",
    "        return shape"
   ]
  },
  {
   "cell_type": "code",
   "execution_count": null,
   "metadata": {},
   "outputs": [],
   "source": [
    "# import the necessary packages\n",
    "# from pyimagesearch.shapedetector import ShapeDetector\n",
    "import argparse\n",
    "import cv2\n",
    " \n",
    "# construct the argument parse and parse the arguments\n",
    "ap = argparse.ArgumentParser()\n",
    "ap.add_argument(\"-i\", \"--image\", required=True,\n",
    "    help=\"path to the input image\")\n",
    "args = vars(ap.parse_args())\n",
    "\n",
    "image = cv2.imread(args[\"image\"])\n",
    "resized = imutils.resize(image, width=300)\n",
    "ratio = image.shape[0] / float(resized.shape[0])\n",
    " \n",
    "# convert the resized image to grayscale, blur it slightly,\n",
    "# and threshold it\n",
    "gray = cv2.cvtColor(resized, cv2.COLOR_BGR2GRAY)\n",
    "blurred = cv2.GaussianBlur(gray, (5, 5), 0)\n",
    "thresh = cv2.threshold(blurred, 60, 255, cv2.THRESH_BINARY)[1]\n",
    " \n",
    "# find contours in the thresholded image and initialize the\n",
    "# shape detector\n",
    "cnts = cv2.findContours(thresh.copy(), cv2.RETR_EXTERNAL,\n",
    "    cv2.CHAIN_APPROX_SIMPLE)\n",
    "cnts = cnts[0] if imutils.is_cv2() else cnts[1]\n",
    "sd = ShapeDetector()"
   ]
  },
  {
   "cell_type": "code",
   "execution_count": null,
   "outputs": [],
   "source": [
    "import cv2 as cv\n",
    "\n",
    "cv.estimateAffine2D()"
   ],
   "metadata": {
    "collapsed": false,
    "pycharm": {
     "name": "#%%\n"
    }
   }
  },
  {
   "cell_type": "code",
   "execution_count": 2,
   "metadata": {},
   "outputs": [],
   "source": [
    "import cv2 as cv\n",
    "\n",
    "cv.estimateAffine2D()"
   ]
  }
 ],
 "metadata": {
  "kernelspec": {
   "display_name": "Python 3",
   "language": "python",
   "name": "python3"
  },
  "language_info": {
   "codemirror_mode": {
    "name": "ipython",
    "version": 3
   },
   "file_extension": ".py",
   "mimetype": "text/x-python",
   "name": "python",
   "nbconvert_exporter": "python",
   "pygments_lexer": "ipython3",
   "version": "3.7.4"
  }
 },
 "nbformat": 4,
 "nbformat_minor": 4
}